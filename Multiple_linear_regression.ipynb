{
  "nbformat": 4,
  "nbformat_minor": 0,
  "metadata": {
    "colab": {
      "provenance": [],
      "authorship_tag": "ABX9TyM0rztFc88eWX1JbRgWg4dQ",
      "include_colab_link": true
    },
    "kernelspec": {
      "name": "python3",
      "display_name": "Python 3"
    },
    "language_info": {
      "name": "python"
    }
  },
  "cells": [
    {
      "cell_type": "markdown",
      "metadata": {
        "id": "view-in-github",
        "colab_type": "text"
      },
      "source": [
        "<a href=\"https://colab.research.google.com/github/Yashmaini30/My_Own_Linear_Regression/blob/main/Multiple_linear_regression.ipynb\" target=\"_parent\"><img src=\"https://colab.research.google.com/assets/colab-badge.svg\" alt=\"Open In Colab\"/></a>"
      ]
    },
    {
      "cell_type": "code",
      "execution_count": 1,
      "metadata": {
        "id": "6u0sP2sisOJ1"
      },
      "outputs": [],
      "source": [
        "import numpy as np\n",
        "import pandas as pd"
      ]
    },
    {
      "cell_type": "code",
      "source": [
        "np.random.seed(42)\n",
        "\n",
        "num_samples = 10000\n",
        "num_features = 100\n",
        "\n",
        "# random feature matrix (X) with values between 0 and 10\n",
        "X = 10 * np.random.rand(num_samples, num_features)\n",
        "\n",
        "# true weights (randomly generated)\n",
        "true_theta = np.random.randn(num_features, 1)\n",
        "\n",
        "# target variable (y) with some noise\n",
        "y = X.dot(true_theta) + np.random.randn(num_samples, 1)  # y = X * theta + noise\n",
        "\n",
        "# Convert to DataFrame\n",
        "df = pd.DataFrame(X, columns=[f\"Feature_{i+1}\" for i in range(num_features)])\n",
        "df[\"Target\"] = y\n",
        "\n",
        "# Save to CSV\n",
        "df.to_csv(\"generated_data_100_features.csv\", index=False)\n",
        "\n",
        "print(\"Dataset Created: 100 Features, 10,000 Rows\")\n",
        "print(df.head)"
      ],
      "metadata": {
        "colab": {
          "base_uri": "https://localhost:8080/"
        },
        "id": "u6FMITbXsgrL",
        "outputId": "912b4317-6021-4de7-b633-610b67d07a1b"
      },
      "execution_count": 4,
      "outputs": [
        {
          "output_type": "stream",
          "name": "stdout",
          "text": [
            "Dataset Created: 100 Features, 10,000 Rows\n",
            "<bound method NDFrame.head of       Feature_1  Feature_2  Feature_3  Feature_4  Feature_5  Feature_6  \\\n",
            "0      3.745401   9.507143   7.319939   5.986585   1.560186   1.559945   \n",
            "1      0.314292   6.364104   3.143560   5.085707   9.075665   2.492922   \n",
            "2      6.420316   0.841400   1.616287   8.985542   6.064291   0.091971   \n",
            "3      0.516817   5.313546   5.406351   6.374299   7.260913   9.758521   \n",
            "4      1.031239   9.025529   5.052524   8.264575   3.200496   8.955232   \n",
            "...         ...        ...        ...        ...        ...        ...   \n",
            "9995   6.862652   3.316824   7.936931   7.190723   6.547018   4.158377   \n",
            "9996   3.469242   2.741823   2.286002   2.465954   4.540367   4.223001   \n",
            "9997   5.941199   5.076557   2.087847   4.101349   2.945241   3.320459   \n",
            "9998   0.802520   9.888564   5.762331   8.108533   9.349330   6.517390   \n",
            "9999   2.904031   7.168854   9.969561   9.673269   9.655420   8.185138   \n",
            "\n",
            "      Feature_7  Feature_8  Feature_9  Feature_10  ...  Feature_92  \\\n",
            "0      0.580836   8.661761   6.011150    7.080726  ...    7.132448   \n",
            "1      4.103829   7.555511   2.287982    0.769799  ...    8.972158   \n",
            "2      1.014715   6.635018   0.050616    1.608081  ...    0.373482   \n",
            "3      5.163003   3.229565   7.951862    2.708323  ...    4.126177   \n",
            "4      3.892017   0.108377   9.053820    0.912867  ...    6.201326   \n",
            "...         ...        ...        ...         ...  ...         ...   \n",
            "9995   9.251363   5.396350   5.147371    2.703304  ...    6.480541   \n",
            "9996   3.188494   1.582693   5.791843    2.672945  ...    9.913592   \n",
            "9997   2.380660   1.606241   5.379673    1.861398  ...    5.725889   \n",
            "9998   5.132520   0.042682   0.126457    0.000075  ...    1.538291   \n",
            "9999   9.213917   5.004737   7.213985    1.373182  ...    9.317045   \n",
            "\n",
            "      Feature_93  Feature_94  Feature_95  Feature_96  Feature_97  Feature_98  \\\n",
            "0       7.607850    5.612772    7.709672    4.937956    5.227328    4.275410   \n",
            "1       9.004181    6.331015    3.390298    3.492096    7.259557    8.971103   \n",
            "2       8.226006    3.601906    1.270605    5.222433    7.699936    2.158210   \n",
            "3       3.720181    7.764130    3.408035    9.307573    8.584128    4.289940   \n",
            "4       2.773812    1.881212    4.636984    3.533522    5.836561    0.777346   \n",
            "...          ...         ...         ...         ...         ...         ...   \n",
            "9995    2.560479    4.974567    9.915671    6.876612    2.536836    8.437192   \n",
            "9996    7.826507    4.160318    8.961057    0.296471    6.918744    4.392806   \n",
            "9997    9.686355    4.129190    5.757556    4.230215    2.369224    7.910337   \n",
            "9998    5.821575    3.180748    7.721372    1.328563    6.060598    7.561315   \n",
            "9999    0.169750    2.327070    5.985147    8.880808    4.373188    4.180720   \n",
            "\n",
            "      Feature_99  Feature_100     Target  \n",
            "0       0.254191     1.078914  19.346414  \n",
            "1       8.870864     7.798755 -10.802831  \n",
            "2       6.228905     0.853475 -22.845853  \n",
            "3       7.508711     7.545429  42.809731  \n",
            "4       9.743948     9.862107  10.773030  \n",
            "...          ...          ...        ...  \n",
            "9995    9.951190     7.617442  41.868807  \n",
            "9996    5.815985     5.896855  12.146828  \n",
            "9997    9.267965     3.012065  -2.387719  \n",
            "9998    2.582555     4.953222  13.613550  \n",
            "9999    4.286713     9.294485  33.755489  \n",
            "\n",
            "[10000 rows x 101 columns]>\n"
          ]
        }
      ]
    }
  ]
}